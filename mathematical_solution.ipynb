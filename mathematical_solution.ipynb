{
 "cells": [
  {
   "cell_type": "code",
   "execution_count": 13,
   "metadata": {},
   "outputs": [
    {
     "name": "stdout",
     "output_type": "stream",
     "text": [
      "subtraction x-y is:\n",
      "[[-4. -4.]\n",
      " [-4. -4.]]\n",
      "multiplication x*y is: \n",
      "[[ 5. 12.]\n",
      " [21. 32.]]\n",
      "division x/y is: \n",
      "[[0.2        0.33333333]\n",
      " [0.42857143 0.5       ]]\n",
      "inner product is: \n",
      "[[17. 23.]\n",
      " [39. 53.]]\n"
     ]
    }
   ],
   "source": [
    "import numpy as np\n",
    "x=np.array([[1,2],[3,4]], dtype=np.float64)  \n",
    "y= np.array([[5,6],[7,8]], dtype=np.float64)\n",
    "print(\"subtraction x-y is:\")\n",
    "print(x-y)\n",
    "print(\"multiplication x*y is: \")\n",
    "print(x*y)\n",
    "print(\"division x/y is: \")\n",
    "print(x/y)\n",
    "print(\"inner product is: \")\n",
    "print(np.inner(x,y))"
   ]
  },
  {
   "cell_type": "code",
   "execution_count": null,
   "metadata": {},
   "outputs": [],
   "source": []
  }
 ],
 "metadata": {
  "kernelspec": {
   "display_name": "Python 3",
   "language": "python",
   "name": "python3"
  },
  "language_info": {
   "codemirror_mode": {
    "name": "ipython",
    "version": 3
   },
   "file_extension": ".py",
   "mimetype": "text/x-python",
   "name": "python",
   "nbconvert_exporter": "python",
   "pygments_lexer": "ipython3",
   "version": "3.7.4"
  }
 },
 "nbformat": 4,
 "nbformat_minor": 4
}
